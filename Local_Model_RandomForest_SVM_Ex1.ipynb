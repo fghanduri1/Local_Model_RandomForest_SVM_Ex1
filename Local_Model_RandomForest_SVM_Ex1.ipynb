{
 "cells": [
  {
   "cell_type": "code",
   "execution_count": 7,
   "id": "0b98fc8a",
   "metadata": {},
   "outputs": [],
   "source": [
    "import numpy as np\n",
    "import pandas as pd # data processing, CSV file I/O (e.g. pd.read_csv)\n",
    "import matplotlib.pyplot as plt\n",
    "import os\n",
    "import seaborn as sns\n",
    "from pandas import read_csv\n",
    "import pandas as pd \n",
    "import numpy as np \n",
    "from datetime import datetime\n",
    "\n",
    "# stats\n",
    "from statsmodels.tsa.seasonal import seasonal_decompose\n",
    "from statsmodels.graphics.tsaplots import plot_acf, plot_pacf, month_plot, quarter_plot\n",
    "\n",
    "# plotting\n",
    "import seaborn as sns \n",
    "import plotly.express as px\n",
    "import matplotlib.pyplot as plt\n",
    "\n",
    "# settings\n",
    "plt.style.use('seaborn')\n",
    "%matplotlib inline\n",
    "data = pd.read_csv('dataQuery1Clustered.csv', header=0)\n",
    "data = data.set_index('Date')"
   ]
  },
  {
   "cell_type": "code",
   "execution_count": 4,
   "id": "9361af2a",
   "metadata": {},
   "outputs": [
    {
     "name": "stdout",
     "output_type": "stream",
     "text": [
      "Means and vars of each hidden state\n",
      "0th hidden state\n",
      "mean =  [32.68747368  4.49873684  4.        ]\n",
      "var =  [3.30706830e+00 1.41580993e+00 1.00000000e-06]\n",
      "\n",
      "1th hidden state\n",
      "mean =  [38.16304536  7.94156272  1.38274007]\n",
      "var =  [10.21339047  7.93079431  0.53187881]\n",
      "\n",
      "2th hidden state\n",
      "mean =  [45.73280841  8.41038483  3.        ]\n",
      "var =  [4.43045784e+00 2.57386318e+00 1.00000000e-06]\n",
      "\n"
     ]
    }
   ],
   "source": [
    "import sklearn.mixture as mix\n",
    "col = 'Long Interest Rate'\n",
    "select = data.dropna()\n",
    "\n",
    "ft_cols = ['Real Earnings', 'Long Interest Rate', 'Cluster']\n",
    "# ft_cols = [f1, f2, f3, 'Cluster']\n",
    "X = select[ft_cols].values\n",
    "\n",
    "\n",
    "model = mix.GaussianMixture(n_components=3, \n",
    "                            covariance_type=\"full\", \n",
    "                            n_init=100, \n",
    "                            random_state=7).fit(X)\n",
    "# Predict the optimal sequence of internal hidden state\n",
    "hidden_states = model.predict(X)\n",
    "\n",
    "print(\"Means and vars of each hidden state\")\n",
    "for i in range(model.n_components):\n",
    "    print(\"{0}th hidden state\".format(i))\n",
    "    print(\"mean = \", model.means_[i])\n",
    "    print(\"var = \", np.diag(model.covariances_[i]))\n",
    "    print()\n",
    "    \n",
    "\n",
    "sns.set(font_scale=1.25)\n",
    "style_kwds = {'xtick.major.size': 3, 'ytick.major.size': 3,\n",
    "              'font.family':u'courier prime code', 'legend.frameon': True}\n",
    "sns.set_style('white', style_kwds)\n"
   ]
  },
  {
   "cell_type": "code",
   "execution_count": 6,
   "id": "32373d82",
   "metadata": {},
   "outputs": [
    {
     "name": "stdout",
     "output_type": "stream",
     "text": [
      "         Date  states  Real Earnings  Long Interest Rate  Cluster  mkt_cret\n",
      "0  1916-08-01       0          30.09                4.16        4         4\n",
      "1  1916-09-01       0          30.79                4.17        4         8\n",
      "2  1916-10-01       0          31.44                4.19        4        12\n",
      "3  1916-11-01       0          32.07                4.20        4        16\n",
      "4  1916-12-01       0          32.95                4.21        4        20\n"
     ]
    }
   ],
   "source": [
    "p=print\n",
    "sns.set(font_scale=1.5)\n",
    "states = (pd.DataFrame(hidden_states, columns=['states'], index=select.index)\n",
    "          .join(select, how='inner')\n",
    "          .assign(mkt_cret=select.Cluster.cumsum())\n",
    "          .reset_index(drop=False)\n",
    "          .rename(columns={'index':'Date'}))\n",
    "p(states.head())"
   ]
  },
  {
   "cell_type": "code",
   "execution_count": 8,
   "id": "2d0d4da9",
   "metadata": {
    "collapsed": true
   },
   "outputs": [
    {
     "name": "stdout",
     "output_type": "stream",
     "text": [
      "         Date  states  Real Earnings  Long Interest Rate  Cluster  mkt_cret\n",
      "0  1916-08-01       0          30.09                4.16        4         4\n",
      "1  1916-09-01       0          30.79                4.17        4         8\n",
      "2  1916-10-01       0          31.44                4.19        4        12\n",
      "3  1916-11-01       0          32.07                4.20        4        16\n",
      "4  1916-12-01       0          32.95                4.21        4        20\n"
     ]
    }
   ],
   "source": [
    "states.to_csv('df_states.csv')"
   ]
  },
  {
   "cell_type": "code",
   "execution_count": 28,
   "id": "1a419d7d",
   "metadata": {
    "collapsed": true
   },
   "outputs": [
    {
     "data": {
      "text/html": [
       "<div>\n",
       "<style scoped>\n",
       "    .dataframe tbody tr th:only-of-type {\n",
       "        vertical-align: middle;\n",
       "    }\n",
       "\n",
       "    .dataframe tbody tr th {\n",
       "        vertical-align: top;\n",
       "    }\n",
       "\n",
       "    .dataframe thead th {\n",
       "        text-align: right;\n",
       "    }\n",
       "</style>\n",
       "<table border=\"1\" class=\"dataframe\">\n",
       "  <thead>\n",
       "    <tr style=\"text-align: right;\">\n",
       "      <th></th>\n",
       "      <th>Unnamed: 0</th>\n",
       "      <th>Date</th>\n",
       "      <th>states</th>\n",
       "      <th>Real Earnings</th>\n",
       "      <th>Long Interest Rate</th>\n",
       "      <th>Cluster</th>\n",
       "      <th>mkt_cret</th>\n",
       "    </tr>\n",
       "  </thead>\n",
       "  <tbody>\n",
       "    <tr>\n",
       "      <th>0</th>\n",
       "      <td>0</td>\n",
       "      <td>1916-08-01</td>\n",
       "      <td>0</td>\n",
       "      <td>30.09</td>\n",
       "      <td>4.16</td>\n",
       "      <td>4</td>\n",
       "      <td>4</td>\n",
       "    </tr>\n",
       "    <tr>\n",
       "      <th>1</th>\n",
       "      <td>1</td>\n",
       "      <td>1916-09-01</td>\n",
       "      <td>0</td>\n",
       "      <td>30.79</td>\n",
       "      <td>4.17</td>\n",
       "      <td>4</td>\n",
       "      <td>8</td>\n",
       "    </tr>\n",
       "    <tr>\n",
       "      <th>2</th>\n",
       "      <td>2</td>\n",
       "      <td>1916-10-01</td>\n",
       "      <td>0</td>\n",
       "      <td>31.44</td>\n",
       "      <td>4.19</td>\n",
       "      <td>4</td>\n",
       "      <td>12</td>\n",
       "    </tr>\n",
       "    <tr>\n",
       "      <th>3</th>\n",
       "      <td>3</td>\n",
       "      <td>1916-11-01</td>\n",
       "      <td>0</td>\n",
       "      <td>32.07</td>\n",
       "      <td>4.20</td>\n",
       "      <td>4</td>\n",
       "      <td>16</td>\n",
       "    </tr>\n",
       "    <tr>\n",
       "      <th>4</th>\n",
       "      <td>4</td>\n",
       "      <td>1916-12-01</td>\n",
       "      <td>0</td>\n",
       "      <td>32.95</td>\n",
       "      <td>4.21</td>\n",
       "      <td>4</td>\n",
       "      <td>20</td>\n",
       "    </tr>\n",
       "    <tr>\n",
       "      <th>...</th>\n",
       "      <td>...</td>\n",
       "      <td>...</td>\n",
       "      <td>...</td>\n",
       "      <td>...</td>\n",
       "      <td>...</td>\n",
       "      <td>...</td>\n",
       "      <td>...</td>\n",
       "    </tr>\n",
       "    <tr>\n",
       "      <th>432</th>\n",
       "      <td>432</td>\n",
       "      <td>2003-05-01</td>\n",
       "      <td>2</td>\n",
       "      <td>45.12</td>\n",
       "      <td>3.57</td>\n",
       "      <td>3</td>\n",
       "      <td>969</td>\n",
       "    </tr>\n",
       "    <tr>\n",
       "      <th>433</th>\n",
       "      <td>433</td>\n",
       "      <td>2003-06-01</td>\n",
       "      <td>2</td>\n",
       "      <td>46.99</td>\n",
       "      <td>3.33</td>\n",
       "      <td>3</td>\n",
       "      <td>972</td>\n",
       "    </tr>\n",
       "    <tr>\n",
       "      <th>434</th>\n",
       "      <td>434</td>\n",
       "      <td>2003-07-01</td>\n",
       "      <td>2</td>\n",
       "      <td>48.76</td>\n",
       "      <td>3.98</td>\n",
       "      <td>3</td>\n",
       "      <td>975</td>\n",
       "    </tr>\n",
       "    <tr>\n",
       "      <th>435</th>\n",
       "      <td>435</td>\n",
       "      <td>2008-10-01</td>\n",
       "      <td>1</td>\n",
       "      <td>41.06</td>\n",
       "      <td>3.81</td>\n",
       "      <td>2</td>\n",
       "      <td>977</td>\n",
       "    </tr>\n",
       "    <tr>\n",
       "      <th>436</th>\n",
       "      <td>436</td>\n",
       "      <td>2009-11-01</td>\n",
       "      <td>1</td>\n",
       "      <td>44.07</td>\n",
       "      <td>3.40</td>\n",
       "      <td>2</td>\n",
       "      <td>979</td>\n",
       "    </tr>\n",
       "  </tbody>\n",
       "</table>\n",
       "<p>437 rows × 7 columns</p>\n",
       "</div>"
      ],
      "text/plain": [
       "     Unnamed: 0        Date  states  Real Earnings  Long Interest Rate  \\\n",
       "0             0  1916-08-01       0          30.09                4.16   \n",
       "1             1  1916-09-01       0          30.79                4.17   \n",
       "2             2  1916-10-01       0          31.44                4.19   \n",
       "3             3  1916-11-01       0          32.07                4.20   \n",
       "4             4  1916-12-01       0          32.95                4.21   \n",
       "..          ...         ...     ...            ...                 ...   \n",
       "432         432  2003-05-01       2          45.12                3.57   \n",
       "433         433  2003-06-01       2          46.99                3.33   \n",
       "434         434  2003-07-01       2          48.76                3.98   \n",
       "435         435  2008-10-01       1          41.06                3.81   \n",
       "436         436  2009-11-01       1          44.07                3.40   \n",
       "\n",
       "     Cluster  mkt_cret  \n",
       "0          4         4  \n",
       "1          4         8  \n",
       "2          4        12  \n",
       "3          4        16  \n",
       "4          4        20  \n",
       "..       ...       ...  \n",
       "432        3       969  \n",
       "433        3       972  \n",
       "434        3       975  \n",
       "435        2       977  \n",
       "436        2       979  \n",
       "\n",
       "[437 rows x 7 columns]"
      ]
     },
     "execution_count": 28,
     "metadata": {},
     "output_type": "execute_result"
    }
   ],
   "source": [
    "states = pd.read_csv('df_states.csv', header=0)\n",
    "#states = states.set_index('Date')\n",
    "states"
   ]
  },
  {
   "cell_type": "code",
   "execution_count": 29,
   "id": "6ffc133c",
   "metadata": {},
   "outputs": [
    {
     "data": {
      "text/html": [
       "<div>\n",
       "<style scoped>\n",
       "    .dataframe tbody tr th:only-of-type {\n",
       "        vertical-align: middle;\n",
       "    }\n",
       "\n",
       "    .dataframe tbody tr th {\n",
       "        vertical-align: top;\n",
       "    }\n",
       "\n",
       "    .dataframe thead th {\n",
       "        text-align: right;\n",
       "    }\n",
       "</style>\n",
       "<table border=\"1\" class=\"dataframe\">\n",
       "  <thead>\n",
       "    <tr style=\"text-align: right;\">\n",
       "      <th></th>\n",
       "      <th>states</th>\n",
       "      <th>Real Earnings</th>\n",
       "      <th>Long Interest Rate</th>\n",
       "    </tr>\n",
       "  </thead>\n",
       "  <tbody>\n",
       "    <tr>\n",
       "      <th>0</th>\n",
       "      <td>0</td>\n",
       "      <td>30.09</td>\n",
       "      <td>4.16</td>\n",
       "    </tr>\n",
       "    <tr>\n",
       "      <th>1</th>\n",
       "      <td>0</td>\n",
       "      <td>30.79</td>\n",
       "      <td>4.17</td>\n",
       "    </tr>\n",
       "    <tr>\n",
       "      <th>2</th>\n",
       "      <td>0</td>\n",
       "      <td>31.44</td>\n",
       "      <td>4.19</td>\n",
       "    </tr>\n",
       "    <tr>\n",
       "      <th>3</th>\n",
       "      <td>0</td>\n",
       "      <td>32.07</td>\n",
       "      <td>4.20</td>\n",
       "    </tr>\n",
       "    <tr>\n",
       "      <th>4</th>\n",
       "      <td>0</td>\n",
       "      <td>32.95</td>\n",
       "      <td>4.21</td>\n",
       "    </tr>\n",
       "    <tr>\n",
       "      <th>...</th>\n",
       "      <td>...</td>\n",
       "      <td>...</td>\n",
       "      <td>...</td>\n",
       "    </tr>\n",
       "    <tr>\n",
       "      <th>432</th>\n",
       "      <td>2</td>\n",
       "      <td>45.12</td>\n",
       "      <td>3.57</td>\n",
       "    </tr>\n",
       "    <tr>\n",
       "      <th>433</th>\n",
       "      <td>2</td>\n",
       "      <td>46.99</td>\n",
       "      <td>3.33</td>\n",
       "    </tr>\n",
       "    <tr>\n",
       "      <th>434</th>\n",
       "      <td>2</td>\n",
       "      <td>48.76</td>\n",
       "      <td>3.98</td>\n",
       "    </tr>\n",
       "    <tr>\n",
       "      <th>435</th>\n",
       "      <td>1</td>\n",
       "      <td>41.06</td>\n",
       "      <td>3.81</td>\n",
       "    </tr>\n",
       "    <tr>\n",
       "      <th>436</th>\n",
       "      <td>1</td>\n",
       "      <td>44.07</td>\n",
       "      <td>3.40</td>\n",
       "    </tr>\n",
       "  </tbody>\n",
       "</table>\n",
       "<p>437 rows × 3 columns</p>\n",
       "</div>"
      ],
      "text/plain": [
       "     states  Real Earnings  Long Interest Rate\n",
       "0         0          30.09                4.16\n",
       "1         0          30.79                4.17\n",
       "2         0          31.44                4.19\n",
       "3         0          32.07                4.20\n",
       "4         0          32.95                4.21\n",
       "..      ...            ...                 ...\n",
       "432       2          45.12                3.57\n",
       "433       2          46.99                3.33\n",
       "434       2          48.76                3.98\n",
       "435       1          41.06                3.81\n",
       "436       1          44.07                3.40\n",
       "\n",
       "[437 rows x 3 columns]"
      ]
     },
     "execution_count": 29,
     "metadata": {},
     "output_type": "execute_result"
    }
   ],
   "source": [
    "states1 = states[['states', 'Real Earnings', 'Long Interest Rate']]\n",
    "states1"
   ]
  },
  {
   "cell_type": "markdown",
   "id": "65e1810d",
   "metadata": {},
   "source": [
    "## Local 1 - Random Forest"
   ]
  },
  {
   "cell_type": "code",
   "execution_count": 30,
   "id": "dc6a7191",
   "metadata": {},
   "outputs": [],
   "source": [
    "from sklearn.model_selection import train_test_split\n",
    "y = states1['states']\n",
    "training, testing, training_labels, testing_labels = train_test_split(X, y, test_size = .25, random_state = 42)"
   ]
  },
  {
   "cell_type": "code",
   "execution_count": 31,
   "id": "4df55fc9",
   "metadata": {},
   "outputs": [],
   "source": [
    "X = states1.drop(['states'], axis = 1)"
   ]
  },
  {
   "cell_type": "code",
   "execution_count": 32,
   "id": "5f9cb891",
   "metadata": {},
   "outputs": [],
   "source": [
    "# Normalize the data\n",
    "from sklearn.preprocessing import StandardScaler\n",
    "sc = StandardScaler()\n",
    "normed_train_data = pd.DataFrame(sc.fit_transform(training), columns = X.columns)\n",
    "normed_test_data = pd.DataFrame(sc.fit_transform(testing), columns = X.columns)"
   ]
  },
  {
   "cell_type": "code",
   "execution_count": 34,
   "id": "d0b4c031",
   "metadata": {},
   "outputs": [
    {
     "data": {
      "text/plain": [
       "RandomForestClassifier()"
      ]
     },
     "execution_count": 34,
     "metadata": {},
     "output_type": "execute_result"
    }
   ],
   "source": [
    "from sklearn.ensemble import RandomForestClassifier\n",
    "from sklearn.datasets import make_classification\n",
    "clf=RandomForestClassifier()\n",
    "clf.fit(training, training_labels)"
   ]
  },
  {
   "cell_type": "code",
   "execution_count": 35,
   "id": "29107790",
   "metadata": {},
   "outputs": [],
   "source": [
    "preds = clf.predict(testing)"
   ]
  },
  {
   "cell_type": "code",
   "execution_count": 36,
   "id": "ba84f7de",
   "metadata": {},
   "outputs": [
    {
     "name": "stdout",
     "output_type": "stream",
     "text": [
      "1.0\n",
      "0.9727272727272728\n"
     ]
    }
   ],
   "source": [
    "print (clf.score(training, training_labels))\n",
    "print(clf.score(testing, testing_labels))"
   ]
  },
  {
   "cell_type": "code",
   "execution_count": 39,
   "id": "ece68143",
   "metadata": {},
   "outputs": [
    {
     "data": {
      "text/plain": [
       "array([[66,  1,  0],\n",
       "       [ 1, 14,  0],\n",
       "       [ 0,  0,  0]], dtype=int64)"
      ]
     },
     "execution_count": 39,
     "metadata": {},
     "output_type": "execute_result"
    }
   ],
   "source": [
    "from sklearn.metrics import accuracy_score\n",
    "import sklearn.metrics as metrics\n",
    "metrics.confusion_matrix(testing_labels, preds,  labels = [1, 2, 3])"
   ]
  },
  {
   "cell_type": "code",
   "execution_count": 44,
   "id": "be541cff",
   "metadata": {},
   "outputs": [
    {
     "name": "stdout",
     "output_type": "stream",
     "text": [
      "              precision    recall  f1-score   support\n",
      "\n",
      "           0       0.96      1.00      0.98        27\n",
      "           1       0.99      0.97      0.98        68\n",
      "           2       0.93      0.93      0.93        15\n",
      "\n",
      "    accuracy                           0.97       110\n",
      "   macro avg       0.96      0.97      0.96       110\n",
      "weighted avg       0.97      0.97      0.97       110\n",
      "\n"
     ]
    }
   ],
   "source": [
    "from sklearn.metrics import classification_report\n",
    "print(classification_report(testing_labels, preds))"
   ]
  },
  {
   "cell_type": "markdown",
   "id": "0b89ac99",
   "metadata": {},
   "source": [
    "## Hidden Markov Model- Random Forest\n",
    "We use HMM to re-state folowing datapoints"
   ]
  },
  {
   "cell_type": "code",
   "execution_count": 107,
   "id": "2646bcc1",
   "metadata": {},
   "outputs": [
    {
     "data": {
      "text/html": [
       "<div>\n",
       "<style scoped>\n",
       "    .dataframe tbody tr th:only-of-type {\n",
       "        vertical-align: middle;\n",
       "    }\n",
       "\n",
       "    .dataframe tbody tr th {\n",
       "        vertical-align: top;\n",
       "    }\n",
       "\n",
       "    .dataframe thead th {\n",
       "        text-align: right;\n",
       "    }\n",
       "</style>\n",
       "<table border=\"1\" class=\"dataframe\">\n",
       "  <thead>\n",
       "    <tr style=\"text-align: right;\">\n",
       "      <th></th>\n",
       "      <th>Real Earnings</th>\n",
       "      <th>Long Interest Rate</th>\n",
       "    </tr>\n",
       "    <tr>\n",
       "      <th>Date</th>\n",
       "      <th></th>\n",
       "      <th></th>\n",
       "    </tr>\n",
       "  </thead>\n",
       "  <tbody>\n",
       "    <tr>\n",
       "      <th>1871-01-01</th>\n",
       "      <td>8.02</td>\n",
       "      <td>5.32</td>\n",
       "    </tr>\n",
       "    <tr>\n",
       "      <th>1871-05-01</th>\n",
       "      <td>8.14</td>\n",
       "      <td>5.33</td>\n",
       "    </tr>\n",
       "    <tr>\n",
       "      <th>1871-06-01</th>\n",
       "      <td>8.27</td>\n",
       "      <td>5.34</td>\n",
       "    </tr>\n",
       "    <tr>\n",
       "      <th>1871-07-01</th>\n",
       "      <td>8.27</td>\n",
       "      <td>5.34</td>\n",
       "    </tr>\n",
       "    <tr>\n",
       "      <th>1871-08-01</th>\n",
       "      <td>8.40</td>\n",
       "      <td>5.34</td>\n",
       "    </tr>\n",
       "    <tr>\n",
       "      <th>...</th>\n",
       "      <td>...</td>\n",
       "      <td>...</td>\n",
       "    </tr>\n",
       "    <tr>\n",
       "      <th>2009-07-01</th>\n",
       "      <td>10.66</td>\n",
       "      <td>3.56</td>\n",
       "    </tr>\n",
       "    <tr>\n",
       "      <th>2009-08-01</th>\n",
       "      <td>12.57</td>\n",
       "      <td>3.59</td>\n",
       "    </tr>\n",
       "    <tr>\n",
       "      <th>2009-09-01</th>\n",
       "      <td>14.51</td>\n",
       "      <td>3.40</td>\n",
       "    </tr>\n",
       "    <tr>\n",
       "      <th>2009-10-01</th>\n",
       "      <td>29.30</td>\n",
       "      <td>3.39</td>\n",
       "    </tr>\n",
       "    <tr>\n",
       "      <th>2009-11-01</th>\n",
       "      <td>44.07</td>\n",
       "      <td>3.40</td>\n",
       "    </tr>\n",
       "  </tbody>\n",
       "</table>\n",
       "<p>1457 rows × 2 columns</p>\n",
       "</div>"
      ],
      "text/plain": [
       "            Real Earnings  Long Interest Rate\n",
       "Date                                         \n",
       "1871-01-01           8.02                5.32\n",
       "1871-05-01           8.14                5.33\n",
       "1871-06-01           8.27                5.34\n",
       "1871-07-01           8.27                5.34\n",
       "1871-08-01           8.40                5.34\n",
       "...                   ...                 ...\n",
       "2009-07-01          10.66                3.56\n",
       "2009-08-01          12.57                3.59\n",
       "2009-09-01          14.51                3.40\n",
       "2009-10-01          29.30                3.39\n",
       "2009-11-01          44.07                3.40\n",
       "\n",
       "[1457 rows x 2 columns]"
      ]
     },
     "execution_count": 107,
     "metadata": {},
     "output_type": "execute_result"
    }
   ],
   "source": [
    "newStates = pd.read_csv('dataQuery2.csv', header=0)\n",
    "newStates = newStates.set_index('Date')\n",
    "newStates"
   ]
  },
  {
   "cell_type": "code",
   "execution_count": 104,
   "id": "931c03c7",
   "metadata": {},
   "outputs": [
    {
     "data": {
      "text/html": [
       "<div>\n",
       "<style scoped>\n",
       "    .dataframe tbody tr th:only-of-type {\n",
       "        vertical-align: middle;\n",
       "    }\n",
       "\n",
       "    .dataframe tbody tr th {\n",
       "        vertical-align: top;\n",
       "    }\n",
       "\n",
       "    .dataframe thead th {\n",
       "        text-align: right;\n",
       "    }\n",
       "</style>\n",
       "<table border=\"1\" class=\"dataframe\">\n",
       "  <thead>\n",
       "    <tr style=\"text-align: right;\">\n",
       "      <th></th>\n",
       "      <th>Real Earnings</th>\n",
       "      <th>Long Interest Rate</th>\n",
       "    </tr>\n",
       "  </thead>\n",
       "  <tbody>\n",
       "    <tr>\n",
       "      <th>0</th>\n",
       "      <td>8.02</td>\n",
       "      <td>5.32</td>\n",
       "    </tr>\n",
       "    <tr>\n",
       "      <th>1</th>\n",
       "      <td>8.14</td>\n",
       "      <td>5.33</td>\n",
       "    </tr>\n",
       "    <tr>\n",
       "      <th>2</th>\n",
       "      <td>8.27</td>\n",
       "      <td>5.34</td>\n",
       "    </tr>\n",
       "    <tr>\n",
       "      <th>3</th>\n",
       "      <td>8.27</td>\n",
       "      <td>5.34</td>\n",
       "    </tr>\n",
       "    <tr>\n",
       "      <th>4</th>\n",
       "      <td>8.40</td>\n",
       "      <td>5.34</td>\n",
       "    </tr>\n",
       "    <tr>\n",
       "      <th>...</th>\n",
       "      <td>...</td>\n",
       "      <td>...</td>\n",
       "    </tr>\n",
       "    <tr>\n",
       "      <th>1452</th>\n",
       "      <td>10.66</td>\n",
       "      <td>3.56</td>\n",
       "    </tr>\n",
       "    <tr>\n",
       "      <th>1453</th>\n",
       "      <td>12.57</td>\n",
       "      <td>3.59</td>\n",
       "    </tr>\n",
       "    <tr>\n",
       "      <th>1454</th>\n",
       "      <td>14.51</td>\n",
       "      <td>3.40</td>\n",
       "    </tr>\n",
       "    <tr>\n",
       "      <th>1455</th>\n",
       "      <td>29.30</td>\n",
       "      <td>3.39</td>\n",
       "    </tr>\n",
       "    <tr>\n",
       "      <th>1456</th>\n",
       "      <td>44.07</td>\n",
       "      <td>3.40</td>\n",
       "    </tr>\n",
       "  </tbody>\n",
       "</table>\n",
       "<p>1457 rows × 2 columns</p>\n",
       "</div>"
      ],
      "text/plain": [
       "      Real Earnings  Long Interest Rate\n",
       "0              8.02                5.32\n",
       "1              8.14                5.33\n",
       "2              8.27                5.34\n",
       "3              8.27                5.34\n",
       "4              8.40                5.34\n",
       "...             ...                 ...\n",
       "1452          10.66                3.56\n",
       "1453          12.57                3.59\n",
       "1454          14.51                3.40\n",
       "1455          29.30                3.39\n",
       "1456          44.07                3.40\n",
       "\n",
       "[1457 rows x 2 columns]"
      ]
     },
     "execution_count": 104,
     "metadata": {},
     "output_type": "execute_result"
    }
   ],
   "source": [
    "newStates = newStates[['Real Earnings', 'Long Interest Rate']]\n",
    "newStates"
   ]
  },
  {
   "cell_type": "code",
   "execution_count": 73,
   "id": "1133b5c3",
   "metadata": {},
   "outputs": [],
   "source": [
    "# Normalize the data\n",
    "from sklearn.preprocessing import StandardScaler\n",
    "scaler = StandardScaler()\n",
    "newStates = scaler.fit_transform(newStates)"
   ]
  },
  {
   "cell_type": "code",
   "execution_count": 105,
   "id": "34caedfb",
   "metadata": {},
   "outputs": [
    {
     "data": {
      "text/html": [
       "<div>\n",
       "<style scoped>\n",
       "    .dataframe tbody tr th:only-of-type {\n",
       "        vertical-align: middle;\n",
       "    }\n",
       "\n",
       "    .dataframe tbody tr th {\n",
       "        vertical-align: top;\n",
       "    }\n",
       "\n",
       "    .dataframe thead th {\n",
       "        text-align: right;\n",
       "    }\n",
       "</style>\n",
       "<table border=\"1\" class=\"dataframe\">\n",
       "  <thead>\n",
       "    <tr style=\"text-align: right;\">\n",
       "      <th></th>\n",
       "      <th>Real Earnings</th>\n",
       "      <th>Long Interest Rate</th>\n",
       "    </tr>\n",
       "  </thead>\n",
       "  <tbody>\n",
       "    <tr>\n",
       "      <th>0</th>\n",
       "      <td>8.02</td>\n",
       "      <td>5.32</td>\n",
       "    </tr>\n",
       "    <tr>\n",
       "      <th>1</th>\n",
       "      <td>8.14</td>\n",
       "      <td>5.33</td>\n",
       "    </tr>\n",
       "    <tr>\n",
       "      <th>2</th>\n",
       "      <td>8.27</td>\n",
       "      <td>5.34</td>\n",
       "    </tr>\n",
       "    <tr>\n",
       "      <th>3</th>\n",
       "      <td>8.27</td>\n",
       "      <td>5.34</td>\n",
       "    </tr>\n",
       "    <tr>\n",
       "      <th>4</th>\n",
       "      <td>8.40</td>\n",
       "      <td>5.34</td>\n",
       "    </tr>\n",
       "    <tr>\n",
       "      <th>...</th>\n",
       "      <td>...</td>\n",
       "      <td>...</td>\n",
       "    </tr>\n",
       "    <tr>\n",
       "      <th>1452</th>\n",
       "      <td>10.66</td>\n",
       "      <td>3.56</td>\n",
       "    </tr>\n",
       "    <tr>\n",
       "      <th>1453</th>\n",
       "      <td>12.57</td>\n",
       "      <td>3.59</td>\n",
       "    </tr>\n",
       "    <tr>\n",
       "      <th>1454</th>\n",
       "      <td>14.51</td>\n",
       "      <td>3.40</td>\n",
       "    </tr>\n",
       "    <tr>\n",
       "      <th>1455</th>\n",
       "      <td>29.30</td>\n",
       "      <td>3.39</td>\n",
       "    </tr>\n",
       "    <tr>\n",
       "      <th>1456</th>\n",
       "      <td>44.07</td>\n",
       "      <td>3.40</td>\n",
       "    </tr>\n",
       "  </tbody>\n",
       "</table>\n",
       "<p>1457 rows × 2 columns</p>\n",
       "</div>"
      ],
      "text/plain": [
       "      Real Earnings  Long Interest Rate\n",
       "0              8.02                5.32\n",
       "1              8.14                5.33\n",
       "2              8.27                5.34\n",
       "3              8.27                5.34\n",
       "4              8.40                5.34\n",
       "...             ...                 ...\n",
       "1452          10.66                3.56\n",
       "1453          12.57                3.59\n",
       "1454          14.51                3.40\n",
       "1455          29.30                3.39\n",
       "1456          44.07                3.40\n",
       "\n",
       "[1457 rows x 2 columns]"
      ]
     },
     "execution_count": 105,
     "metadata": {},
     "output_type": "execute_result"
    }
   ],
   "source": [
    "new_df=pd.DataFrame(newStates, columns=['Real Earnings', 'Long Interest Rate']) \n",
    "new_df"
   ]
  },
  {
   "cell_type": "code",
   "execution_count": 108,
   "id": "ff3c441f",
   "metadata": {},
   "outputs": [
    {
     "name": "stdout",
     "output_type": "stream",
     "text": [
      "Means and vars of each hidden state\n",
      "0th hidden state\n",
      "mean =  [24.18537328  3.35860709]\n",
      "var =  [29.78339836  0.5200946 ]\n",
      "\n",
      "1th hidden state\n",
      "mean =  [38.90171174  7.72038213]\n",
      "var =  [23.35950378  6.79851986]\n",
      "\n",
      "2th hidden state\n",
      "mean =  [12.98460968  3.57568924]\n",
      "var =  [12.63703299  0.62590905]\n",
      "\n"
     ]
    }
   ],
   "source": [
    "import sklearn.mixture as mix\n",
    "col = 'Long Interest Rate'\n",
    "select = new_df.dropna()\n",
    "\n",
    "ft_cols = ['Real Earnings', 'Long Interest Rate']\n",
    "# ft_cols = [f1, f2, f3, 'Cluster']\n",
    "X = select[ft_cols].values\n",
    "\n",
    "\n",
    "model = mix.GaussianMixture(n_components=3, \n",
    "                            covariance_type=\"full\", \n",
    "                            n_init=100, \n",
    "                            random_state=7).fit(X)\n",
    "# Predict the optimal sequence of internal hidden state\n",
    "hidden_states = model.predict(X)\n",
    "\n",
    "print(\"Means and vars of each hidden state\")\n",
    "for i in range(model.n_components):\n",
    "    print(\"{0}th hidden state\".format(i))\n",
    "    print(\"mean = \", model.means_[i])\n",
    "    print(\"var = \", np.diag(model.covariances_[i]))\n",
    "    print()\n",
    "    \n",
    "\n",
    "sns.set(font_scale=1.25)\n",
    "style_kwds = {'xtick.major.size': 3, 'ytick.major.size': 3,\n",
    "              'font.family':u'courier prime code', 'legend.frameon': True}\n",
    "sns.set_style('white', style_kwds)\n"
   ]
  },
  {
   "cell_type": "code",
   "execution_count": 109,
   "id": "f5797a35",
   "metadata": {},
   "outputs": [
    {
     "data": {
      "image/png": "[encoded data removed]",
      "text/plain": [
       "<Figure size 864x648 with 3 Axes>"
      ]
     },
     "metadata": {},
     "output_type": "display_data"
    }
   ],
   "source": [
    "from matplotlib import cm\n",
    "from matplotlib.dates import YearLocator, MonthLocator\n",
    "fig, axs = plt.subplots(model.n_components, sharex=True, sharey=True, figsize=(12,9))\n",
    "colors = cm.rainbow(np.linspace(0, 1, model.n_components))\n",
    "\n",
    "for i, (ax, color) in enumerate(zip(axs, colors)):\n",
    "    # Use fancy indexing to plot data in each state.\n",
    "    mask = hidden_states == i\n",
    "    ax.plot_date(select.index.values[mask],\n",
    "                 select[col].values[mask],\n",
    "                 \".-\", c=color)\n",
    "    ax.set_title(\"{0}th hidden state\".format(i), fontsize=16, fontweight='demi')\n",
    "\n",
    "    # Format the ticks.\n",
    "    ax.xaxis.set_major_locator(YearLocator())\n",
    "    ax.xaxis.set_minor_locator(MonthLocator())\n",
    "    sns.despine(offset=10)\n",
    "\n",
    "plt.tight_layout()\n",
    "#fig.savefig('Hidden Markov (Mixture) Model_Regime Subplots.png')"
   ]
  },
  {
   "cell_type": "code",
   "execution_count": 110,
   "id": "4ef946d8",
   "metadata": {},
   "outputs": [
    {
     "name": "stdout",
     "output_type": "stream",
     "text": [
      "   Date  newStates  Real Earnings  Long Interest Rate\n",
      "0     0          2           8.02                5.32\n",
      "1     1          2           8.14                5.33\n",
      "2     2          2           8.27                5.34\n",
      "3     3          2           8.27                5.34\n",
      "4     4          2           8.40                5.34\n"
     ]
    }
   ],
   "source": [
    "p=print\n",
    "sns.set(font_scale=1.5)\n",
    "states = (pd.DataFrame(hidden_states, columns=['newStates'], index=select.index)\n",
    "          .join(select, how='inner')\n",
    "          #.assign(mkt_cret=select.Cluster.cumsum())\n",
    "          .reset_index(drop=False)\n",
    "          .rename(columns={'index':'Date'}))\n",
    "p(states.head())"
   ]
  },
  {
   "cell_type": "code",
   "execution_count": 111,
   "id": "56377799",
   "metadata": {},
   "outputs": [
    {
     "name": "stdout",
     "output_type": "stream",
     "text": [
      "   Date  newStates  Real Earnings  Long Interest Rate\n",
      "0     0          2           8.02                5.32\n",
      "1     1          2           8.14                5.33\n",
      "2     2          2           8.27                5.34\n",
      "3     3          2           8.27                5.34\n",
      "4     4          2           8.40                5.34\n"
     ]
    }
   ],
   "source": [
    "p(states.head())\n",
    "newStatesDf = states"
   ]
  },
  {
   "cell_type": "code",
   "execution_count": 113,
   "id": "072f6703",
   "metadata": {},
   "outputs": [],
   "source": [
    "newStatesDf.to_csv('df_states_updated.csv')"
   ]
  },
  {
   "cell_type": "code",
   "execution_count": null,
   "id": "dec42d14",
   "metadata": {},
   "outputs": [],
   "source": []
  },
  {
   "cell_type": "markdown",
   "id": "818fecb5",
   "metadata": {},
   "source": [
    "## Local 2 - Random Forest\n",
    "We change the the states in the data and now we evaluate the model"
   ]
  },
  {
   "cell_type": "code",
   "execution_count": 129,
   "id": "878d7d97",
   "metadata": {},
   "outputs": [
    {
     "data": {
      "text/html": [
       "<div>\n",
       "<style scoped>\n",
       "    .dataframe tbody tr th:only-of-type {\n",
       "        vertical-align: middle;\n",
       "    }\n",
       "\n",
       "    .dataframe tbody tr th {\n",
       "        vertical-align: top;\n",
       "    }\n",
       "\n",
       "    .dataframe thead th {\n",
       "        text-align: right;\n",
       "    }\n",
       "</style>\n",
       "<table border=\"1\" class=\"dataframe\">\n",
       "  <thead>\n",
       "    <tr style=\"text-align: right;\">\n",
       "      <th></th>\n",
       "      <th>newStates</th>\n",
       "      <th>Real Earnings</th>\n",
       "      <th>Long Interest Rate</th>\n",
       "    </tr>\n",
       "  </thead>\n",
       "  <tbody>\n",
       "    <tr>\n",
       "      <th>0</th>\n",
       "      <td>2</td>\n",
       "      <td>8.02</td>\n",
       "      <td>5.32</td>\n",
       "    </tr>\n",
       "    <tr>\n",
       "      <th>1</th>\n",
       "      <td>2</td>\n",
       "      <td>8.14</td>\n",
       "      <td>5.33</td>\n",
       "    </tr>\n",
       "    <tr>\n",
       "      <th>2</th>\n",
       "      <td>2</td>\n",
       "      <td>8.27</td>\n",
       "      <td>5.34</td>\n",
       "    </tr>\n",
       "    <tr>\n",
       "      <th>3</th>\n",
       "      <td>2</td>\n",
       "      <td>8.27</td>\n",
       "      <td>5.34</td>\n",
       "    </tr>\n",
       "    <tr>\n",
       "      <th>4</th>\n",
       "      <td>2</td>\n",
       "      <td>8.40</td>\n",
       "      <td>5.34</td>\n",
       "    </tr>\n",
       "    <tr>\n",
       "      <th>...</th>\n",
       "      <td>...</td>\n",
       "      <td>...</td>\n",
       "      <td>...</td>\n",
       "    </tr>\n",
       "    <tr>\n",
       "      <th>1889</th>\n",
       "      <td>2</td>\n",
       "      <td>45.12</td>\n",
       "      <td>3.57</td>\n",
       "    </tr>\n",
       "    <tr>\n",
       "      <th>1890</th>\n",
       "      <td>2</td>\n",
       "      <td>46.99</td>\n",
       "      <td>3.33</td>\n",
       "    </tr>\n",
       "    <tr>\n",
       "      <th>1891</th>\n",
       "      <td>2</td>\n",
       "      <td>48.76</td>\n",
       "      <td>3.98</td>\n",
       "    </tr>\n",
       "    <tr>\n",
       "      <th>1892</th>\n",
       "      <td>1</td>\n",
       "      <td>41.06</td>\n",
       "      <td>3.81</td>\n",
       "    </tr>\n",
       "    <tr>\n",
       "      <th>1893</th>\n",
       "      <td>1</td>\n",
       "      <td>44.07</td>\n",
       "      <td>3.40</td>\n",
       "    </tr>\n",
       "  </tbody>\n",
       "</table>\n",
       "<p>1894 rows × 3 columns</p>\n",
       "</div>"
      ],
      "text/plain": [
       "      newStates  Real Earnings  Long Interest Rate\n",
       "0             2           8.02                5.32\n",
       "1             2           8.14                5.33\n",
       "2             2           8.27                5.34\n",
       "3             2           8.27                5.34\n",
       "4             2           8.40                5.34\n",
       "...         ...            ...                 ...\n",
       "1889          2          45.12                3.57\n",
       "1890          2          46.99                3.33\n",
       "1891          2          48.76                3.98\n",
       "1892          1          41.06                3.81\n",
       "1893          1          44.07                3.40\n",
       "\n",
       "[1894 rows x 3 columns]"
      ]
     },
     "execution_count": 129,
     "metadata": {},
     "output_type": "execute_result"
    }
   ],
   "source": [
    "states2 = pd.read_csv('df_states_updated.csv', header=0)\n",
    "#states = states.set_index('Date')\n",
    "states2"
   ]
  },
  {
   "cell_type": "code",
   "execution_count": 131,
   "id": "fb232867",
   "metadata": {},
   "outputs": [],
   "source": [
    "X = states2.drop(['newStates'], axis = 1)"
   ]
  },
  {
   "cell_type": "code",
   "execution_count": 132,
   "id": "77b088f0",
   "metadata": {},
   "outputs": [],
   "source": [
    "from sklearn.model_selection import train_test_split\n",
    "y = states2['newStates']\n",
    "training, testing, training_labels, testing_labels = train_test_split(X, y, test_size = .25, random_state = 42)"
   ]
  },
  {
   "cell_type": "code",
   "execution_count": 95,
   "id": "b9f022fb",
   "metadata": {},
   "outputs": [],
   "source": [
    "# X = states2.drop(['states'], axis = 1)\n",
    "# # Normalize the data\n",
    "# from sklearn.preprocessing import StandardScaler\n",
    "# sc = StandardScaler()\n",
    "# normed_train_data = pd.DataFrame(sc.fit_transform(training), columns = X.columns)\n",
    "# normed_test_data = pd.DataFrame(sc.fit_transform(testing), columns = X.columns)"
   ]
  },
  {
   "cell_type": "code",
   "execution_count": 133,
   "id": "b9614bcb",
   "metadata": {},
   "outputs": [
    {
     "data": {
      "text/plain": [
       "RandomForestClassifier()"
      ]
     },
     "execution_count": 133,
     "metadata": {},
     "output_type": "execute_result"
    }
   ],
   "source": [
    "from sklearn.ensemble import RandomForestClassifier\n",
    "from sklearn.datasets import make_classification\n",
    "clf=RandomForestClassifier()\n",
    "clf.fit(training, training_labels)"
   ]
  },
  {
   "cell_type": "code",
   "execution_count": 134,
   "id": "9cddd995",
   "metadata": {},
   "outputs": [],
   "source": [
    "preds = clf.predict(testing)"
   ]
  },
  {
   "cell_type": "code",
   "execution_count": 135,
   "id": "81369e65",
   "metadata": {},
   "outputs": [
    {
     "name": "stdout",
     "output_type": "stream",
     "text": [
      "0.9464788732394366\n",
      "0.9135021097046413\n"
     ]
    }
   ],
   "source": [
    "print (clf.score(training, training_labels))\n",
    "print(clf.score(testing, testing_labels))"
   ]
  },
  {
   "cell_type": "code",
   "execution_count": 136,
   "id": "5efc5bde",
   "metadata": {},
   "outputs": [
    {
     "data": {
      "text/plain": [
       "array([[142,  19,   0],\n",
       "       [ 12, 216,   0],\n",
       "       [  0,   0,   0]], dtype=int64)"
      ]
     },
     "execution_count": 136,
     "metadata": {},
     "output_type": "execute_result"
    }
   ],
   "source": [
    "from sklearn.metrics import accuracy_score\n",
    "import sklearn.metrics as metrics\n",
    "metrics.confusion_matrix(testing_labels, preds,  labels = [1, 2, 3])"
   ]
  },
  {
   "cell_type": "code",
   "execution_count": 137,
   "id": "64400142",
   "metadata": {},
   "outputs": [
    {
     "name": "stdout",
     "output_type": "stream",
     "text": [
      "              precision    recall  f1-score   support\n",
      "\n",
      "           0       1.00      0.88      0.94        85\n",
      "           1       0.87      0.88      0.87       161\n",
      "           2       0.92      0.95      0.93       228\n",
      "\n",
      "    accuracy                           0.91       474\n",
      "   macro avg       0.93      0.90      0.91       474\n",
      "weighted avg       0.92      0.91      0.91       474\n",
      "\n"
     ]
    }
   ],
   "source": [
    "from sklearn.metrics import classification_report\n",
    "print(classification_report(testing_labels, preds))"
   ]
  },
  {
   "cell_type": "markdown",
   "id": "9126b28a",
   "metadata": {},
   "source": [
    "## Local model 3: Current Scenario: New accuracy < Old accuracy\n",
    "As the new accuracy is less than old accuracy we now only train the new dataset."
   ]
  },
  {
   "cell_type": "code",
   "execution_count": 164,
   "id": "b874e45f",
   "metadata": {},
   "outputs": [
    {
     "data": {
      "text/html": [
       "<div>\n",
       "<style scoped>\n",
       "    .dataframe tbody tr th:only-of-type {\n",
       "        vertical-align: middle;\n",
       "    }\n",
       "\n",
       "    .dataframe tbody tr th {\n",
       "        vertical-align: top;\n",
       "    }\n",
       "\n",
       "    .dataframe thead th {\n",
       "        text-align: right;\n",
       "    }\n",
       "</style>\n",
       "<table border=\"1\" class=\"dataframe\">\n",
       "  <thead>\n",
       "    <tr style=\"text-align: right;\">\n",
       "      <th></th>\n",
       "      <th>newStates</th>\n",
       "      <th>Real Earnings</th>\n",
       "      <th>Long Interest Rate</th>\n",
       "    </tr>\n",
       "  </thead>\n",
       "  <tbody>\n",
       "    <tr>\n",
       "      <th>0</th>\n",
       "      <td>2</td>\n",
       "      <td>8.02</td>\n",
       "      <td>5.32</td>\n",
       "    </tr>\n",
       "    <tr>\n",
       "      <th>1</th>\n",
       "      <td>2</td>\n",
       "      <td>8.14</td>\n",
       "      <td>5.33</td>\n",
       "    </tr>\n",
       "    <tr>\n",
       "      <th>2</th>\n",
       "      <td>2</td>\n",
       "      <td>8.27</td>\n",
       "      <td>5.34</td>\n",
       "    </tr>\n",
       "    <tr>\n",
       "      <th>3</th>\n",
       "      <td>2</td>\n",
       "      <td>8.27</td>\n",
       "      <td>5.34</td>\n",
       "    </tr>\n",
       "    <tr>\n",
       "      <th>4</th>\n",
       "      <td>2</td>\n",
       "      <td>8.40</td>\n",
       "      <td>5.34</td>\n",
       "    </tr>\n",
       "    <tr>\n",
       "      <th>...</th>\n",
       "      <td>...</td>\n",
       "      <td>...</td>\n",
       "      <td>...</td>\n",
       "    </tr>\n",
       "    <tr>\n",
       "      <th>1452</th>\n",
       "      <td>2</td>\n",
       "      <td>10.66</td>\n",
       "      <td>3.56</td>\n",
       "    </tr>\n",
       "    <tr>\n",
       "      <th>1453</th>\n",
       "      <td>2</td>\n",
       "      <td>12.57</td>\n",
       "      <td>3.59</td>\n",
       "    </tr>\n",
       "    <tr>\n",
       "      <th>1454</th>\n",
       "      <td>2</td>\n",
       "      <td>14.51</td>\n",
       "      <td>3.40</td>\n",
       "    </tr>\n",
       "    <tr>\n",
       "      <th>1455</th>\n",
       "      <td>0</td>\n",
       "      <td>29.30</td>\n",
       "      <td>3.39</td>\n",
       "    </tr>\n",
       "    <tr>\n",
       "      <th>1456</th>\n",
       "      <td>1</td>\n",
       "      <td>44.07</td>\n",
       "      <td>3.40</td>\n",
       "    </tr>\n",
       "  </tbody>\n",
       "</table>\n",
       "<p>1457 rows × 3 columns</p>\n",
       "</div>"
      ],
      "text/plain": [
       "      newStates  Real Earnings  Long Interest Rate\n",
       "0             2           8.02                5.32\n",
       "1             2           8.14                5.33\n",
       "2             2           8.27                5.34\n",
       "3             2           8.27                5.34\n",
       "4             2           8.40                5.34\n",
       "...         ...            ...                 ...\n",
       "1452          2          10.66                3.56\n",
       "1453          2          12.57                3.59\n",
       "1454          2          14.51                3.40\n",
       "1455          0          29.30                3.39\n",
       "1456          1          44.07                3.40\n",
       "\n",
       "[1457 rows x 3 columns]"
      ]
     },
     "execution_count": 164,
     "metadata": {},
     "output_type": "execute_result"
    }
   ],
   "source": [
    "states3 = pd.read_csv('df_states_newDatapoints.csv', header=0)\n",
    "#states = states.set_index('Date')\n",
    "states3"
   ]
  },
  {
   "cell_type": "code",
   "execution_count": 165,
   "id": "589bc733",
   "metadata": {},
   "outputs": [],
   "source": [
    "from sklearn.model_selection import train_test_split\n",
    "y = states3['newStates']\n",
    "training, testing, training_labels, testing_labels = train_test_split(X, y, test_size = .25, random_state = 42)"
   ]
  },
  {
   "cell_type": "code",
   "execution_count": 166,
   "id": "0f420a8a",
   "metadata": {},
   "outputs": [],
   "source": [
    "X = states3.drop(['newStates'], axis = 1)"
   ]
  },
  {
   "cell_type": "code",
   "execution_count": 159,
   "id": "61788b41",
   "metadata": {},
   "outputs": [
    {
     "data": {
      "text/plain": [
       "RandomForestClassifier()"
      ]
     },
     "execution_count": 159,
     "metadata": {},
     "output_type": "execute_result"
    }
   ],
   "source": [
    "# Normalize the data\n",
    "from sklearn.preprocessing import StandardScaler\n",
    "sc = StandardScaler()\n",
    "normed_train_data = pd.DataFrame(sc.fit_transform(training), columns = X.columns)\n",
    "normed_test_data = pd.DataFrame(sc.fit_transform(testing), columns = X.columns)"
   ]
  },
  {
   "cell_type": "code",
   "execution_count": 167,
   "id": "8bf2671a",
   "metadata": {},
   "outputs": [
    {
     "data": {
      "text/plain": [
       "RandomForestClassifier()"
      ]
     },
     "execution_count": 167,
     "metadata": {},
     "output_type": "execute_result"
    }
   ],
   "source": [
    "from sklearn.ensemble import RandomForestClassifier\n",
    "from sklearn.datasets import make_classification\n",
    "clf=RandomForestClassifier()\n",
    "clf.fit(training, training_labels)"
   ]
  },
  {
   "cell_type": "code",
   "execution_count": 168,
   "id": "3b4ff106",
   "metadata": {},
   "outputs": [],
   "source": [
    "preds = clf.predict(testing)"
   ]
  },
  {
   "cell_type": "code",
   "execution_count": 169,
   "id": "fc612a1a",
   "metadata": {},
   "outputs": [
    {
     "name": "stdout",
     "output_type": "stream",
     "text": [
      "1.0\n",
      "0.9972602739726028\n"
     ]
    }
   ],
   "source": [
    "print (clf.score(training, training_labels))\n",
    "print(clf.score(testing, testing_labels))"
   ]
  },
  {
   "cell_type": "code",
   "execution_count": 170,
   "id": "bdf0ca78",
   "metadata": {},
   "outputs": [
    {
     "data": {
      "text/plain": [
       "array([[105,   0,   0],\n",
       "       [  0, 191,   0],\n",
       "       [  0,   0,   0]], dtype=int64)"
      ]
     },
     "execution_count": 170,
     "metadata": {},
     "output_type": "execute_result"
    }
   ],
   "source": [
    "from sklearn.metrics import accuracy_score\n",
    "import sklearn.metrics as metrics\n",
    "metrics.confusion_matrix(testing_labels, preds,  labels = [1, 2, 3])"
   ]
  },
  {
   "cell_type": "code",
   "execution_count": 171,
   "id": "40c38a4a",
   "metadata": {},
   "outputs": [
    {
     "name": "stdout",
     "output_type": "stream",
     "text": [
      "              precision    recall  f1-score   support\n",
      "\n",
      "           0       0.99      1.00      0.99        68\n",
      "           1       1.00      0.99      1.00       106\n",
      "           2       1.00      1.00      1.00       191\n",
      "\n",
      "    accuracy                           1.00       365\n",
      "   macro avg       1.00      1.00      1.00       365\n",
      "weighted avg       1.00      1.00      1.00       365\n",
      "\n"
     ]
    }
   ],
   "source": [
    "from sklearn.metrics import classification_report\n",
    "print(classification_report(testing_labels, preds))"
   ]
  },
  {
   "cell_type": "markdown",
   "id": "24601c76",
   "metadata": {},
   "source": [
    "# Support Vector Machine"
   ]
  },
  {
   "cell_type": "markdown",
   "id": "bf608967",
   "metadata": {},
   "source": [
    "## Local model 1 - SVM"
   ]
  },
  {
   "cell_type": "code",
   "execution_count": 189,
   "id": "3e9aa91c",
   "metadata": {},
   "outputs": [
    {
     "data": {
      "text/html": [
       "<div>\n",
       "<style scoped>\n",
       "    .dataframe tbody tr th:only-of-type {\n",
       "        vertical-align: middle;\n",
       "    }\n",
       "\n",
       "    .dataframe tbody tr th {\n",
       "        vertical-align: top;\n",
       "    }\n",
       "\n",
       "    .dataframe thead th {\n",
       "        text-align: right;\n",
       "    }\n",
       "</style>\n",
       "<table border=\"1\" class=\"dataframe\">\n",
       "  <thead>\n",
       "    <tr style=\"text-align: right;\">\n",
       "      <th></th>\n",
       "      <th>states</th>\n",
       "      <th>Real Earnings</th>\n",
       "      <th>Long Interest Rate</th>\n",
       "    </tr>\n",
       "  </thead>\n",
       "  <tbody>\n",
       "    <tr>\n",
       "      <th>0</th>\n",
       "      <td>0</td>\n",
       "      <td>30.09</td>\n",
       "      <td>4.16</td>\n",
       "    </tr>\n",
       "    <tr>\n",
       "      <th>1</th>\n",
       "      <td>0</td>\n",
       "      <td>30.79</td>\n",
       "      <td>4.17</td>\n",
       "    </tr>\n",
       "    <tr>\n",
       "      <th>2</th>\n",
       "      <td>0</td>\n",
       "      <td>31.44</td>\n",
       "      <td>4.19</td>\n",
       "    </tr>\n",
       "    <tr>\n",
       "      <th>3</th>\n",
       "      <td>0</td>\n",
       "      <td>32.07</td>\n",
       "      <td>4.20</td>\n",
       "    </tr>\n",
       "    <tr>\n",
       "      <th>4</th>\n",
       "      <td>0</td>\n",
       "      <td>32.95</td>\n",
       "      <td>4.21</td>\n",
       "    </tr>\n",
       "    <tr>\n",
       "      <th>...</th>\n",
       "      <td>...</td>\n",
       "      <td>...</td>\n",
       "      <td>...</td>\n",
       "    </tr>\n",
       "    <tr>\n",
       "      <th>432</th>\n",
       "      <td>2</td>\n",
       "      <td>45.12</td>\n",
       "      <td>3.57</td>\n",
       "    </tr>\n",
       "    <tr>\n",
       "      <th>433</th>\n",
       "      <td>2</td>\n",
       "      <td>46.99</td>\n",
       "      <td>3.33</td>\n",
       "    </tr>\n",
       "    <tr>\n",
       "      <th>434</th>\n",
       "      <td>2</td>\n",
       "      <td>48.76</td>\n",
       "      <td>3.98</td>\n",
       "    </tr>\n",
       "    <tr>\n",
       "      <th>435</th>\n",
       "      <td>1</td>\n",
       "      <td>41.06</td>\n",
       "      <td>3.81</td>\n",
       "    </tr>\n",
       "    <tr>\n",
       "      <th>436</th>\n",
       "      <td>1</td>\n",
       "      <td>44.07</td>\n",
       "      <td>3.40</td>\n",
       "    </tr>\n",
       "  </tbody>\n",
       "</table>\n",
       "<p>437 rows × 3 columns</p>\n",
       "</div>"
      ],
      "text/plain": [
       "     states  Real Earnings  Long Interest Rate\n",
       "0         0          30.09                4.16\n",
       "1         0          30.79                4.17\n",
       "2         0          31.44                4.19\n",
       "3         0          32.07                4.20\n",
       "4         0          32.95                4.21\n",
       "..      ...            ...                 ...\n",
       "432       2          45.12                3.57\n",
       "433       2          46.99                3.33\n",
       "434       2          48.76                3.98\n",
       "435       1          41.06                3.81\n",
       "436       1          44.07                3.40\n",
       "\n",
       "[437 rows x 3 columns]"
      ]
     },
     "execution_count": 189,
     "metadata": {},
     "output_type": "execute_result"
    }
   ],
   "source": [
    "states = pd.read_csv('df_states.csv', header=0)\n",
    "#states = states.set_index('Date')\n",
    "states1 = states[['states', 'Real Earnings', 'Long Interest Rate']]\n",
    "states1"
   ]
  },
  {
   "cell_type": "code",
   "execution_count": 190,
   "id": "80e7618f",
   "metadata": {},
   "outputs": [],
   "source": [
    "from sklearn.model_selection import train_test_split\n",
    "y = states1['states']\n",
    "X = states1.drop(['states'], axis = 1)"
   ]
  },
  {
   "cell_type": "code",
   "execution_count": 191,
   "id": "a85eb3ba",
   "metadata": {},
   "outputs": [],
   "source": [
    "training, testing, training_labels, testing_labels = train_test_split(X, y, test_size = .25, random_state = 42)"
   ]
  },
  {
   "cell_type": "code",
   "execution_count": 192,
   "id": "e5b068dd",
   "metadata": {},
   "outputs": [],
   "source": [
    "from sklearn import svm\n",
    "\n",
    "#Create a svm Classifier\n",
    "clf = svm.SVC(kernel='linear') # Linear Kernel\n",
    "\n",
    "#Train the model using the training sets\n",
    "clf.fit(training, training_labels)\n",
    "\n",
    "#Predict the response for test dataset\n",
    "y_pred = clf.predict(testing)"
   ]
  },
  {
   "cell_type": "code",
   "execution_count": 194,
   "id": "073ccf05",
   "metadata": {},
   "outputs": [
    {
     "name": "stdout",
     "output_type": "stream",
     "text": [
      "Accuracy: 0.9636363636363636\n"
     ]
    }
   ],
   "source": [
    "#Import scikit-learn metrics module for accuracy calculation\n",
    "from sklearn import metrics\n",
    "\n",
    "# Model Accuracy: how often is the classifier correct?\n",
    "print(\"Accuracy:\",metrics.accuracy_score(testing_labels, y_pred))"
   ]
  },
  {
   "cell_type": "code",
   "execution_count": 203,
   "id": "f950d0fd",
   "metadata": {},
   "outputs": [
    {
     "name": "stdout",
     "output_type": "stream",
     "text": [
      "f-score testing macro:  0.951731080667046\n"
     ]
    }
   ],
   "source": [
    "from sklearn.metrics import f1_score\n",
    "print(\"f-score testing macro: \" , f1_score(testing_labels, y_pred, average='macro') )"
   ]
  },
  {
   "cell_type": "markdown",
   "id": "f6d6fc03",
   "metadata": {},
   "source": [
    "## Hidden Markov Model- SVM\n",
    "We use HMM to re-state folowing datapoints"
   ]
  },
  {
   "cell_type": "code",
   "execution_count": 209,
   "id": "0bf13117",
   "metadata": {},
   "outputs": [],
   "source": [
    "newStates = pd.read_csv('dataQuery2.csv', header=0)\n",
    "newStates = newStates.set_index('Date')"
   ]
  },
  {
   "cell_type": "code",
   "execution_count": 210,
   "id": "c733f2fc",
   "metadata": {},
   "outputs": [],
   "source": [
    "newStates = newStates[['Real Earnings', 'Long Interest Rate']]"
   ]
  },
  {
   "cell_type": "code",
   "execution_count": 208,
   "id": "cd90f891",
   "metadata": {},
   "outputs": [],
   "source": [
    "# # Normalize the data\n",
    "# from sklearn.preprocessing import StandardScaler\n",
    "# scaler = StandardScaler()\n",
    "# newStates = scaler.fit_transform(newStates)\n",
    "# new_df=pd.DataFrame(newStates, columns=['Real Earnings', 'Long Interest Rate']) \n",
    "# new_df"
   ]
  },
  {
   "cell_type": "code",
   "execution_count": 212,
   "id": "4f4afe73",
   "metadata": {},
   "outputs": [
    {
     "name": "stdout",
     "output_type": "stream",
     "text": [
      "Means and vars of each hidden state\n",
      "0th hidden state\n",
      "mean =  [24.18537328  3.35860709]\n",
      "var =  [29.78339836  0.5200946 ]\n",
      "\n",
      "1th hidden state\n",
      "mean =  [38.90171174  7.72038213]\n",
      "var =  [23.35950378  6.79851986]\n",
      "\n",
      "2th hidden state\n",
      "mean =  [12.98460968  3.57568924]\n",
      "var =  [12.63703299  0.62590905]\n",
      "\n"
     ]
    }
   ],
   "source": [
    "import sklearn.mixture as mix\n",
    "col = 'Long Interest Rate'\n",
    "select = new_df.dropna()\n",
    "\n",
    "ft_cols = ['Real Earnings', 'Long Interest Rate']\n",
    "# ft_cols = [f1, f2, f3, 'Cluster']\n",
    "X = select[ft_cols].values\n",
    "\n",
    "\n",
    "model = mix.GaussianMixture(n_components=3, \n",
    "                            covariance_type=\"full\", \n",
    "                            n_init=100, \n",
    "                            random_state=7).fit(X)\n",
    "# Predict the optimal sequence of internal hidden state\n",
    "hidden_states = model.predict(X)\n",
    "\n",
    "print(\"Means and vars of each hidden state\")\n",
    "for i in range(model.n_components):\n",
    "    print(\"{0}th hidden state\".format(i))\n",
    "    print(\"mean = \", model.means_[i])\n",
    "    print(\"var = \", np.diag(model.covariances_[i]))\n",
    "    print()"
   ]
  },
  {
   "cell_type": "code",
   "execution_count": 214,
   "id": "63a3fc29",
   "metadata": {},
   "outputs": [],
   "source": [
    "sns.set(font_scale=1.25)\n",
    "style_kwds = {'xtick.major.size': 3, 'ytick.major.size': 3,\n",
    "              'font.family':u'courier prime code', 'legend.frameon': True}\n",
    "sns.set_style('white', style_kwds)"
   ]
  },
  {
   "cell_type": "code",
   "execution_count": 215,
   "id": "e6812eb5",
   "metadata": {},
   "outputs": [
    {
     "data": {
      "image/png": "[encoded data removed]",
      "text/plain": [
       "<Figure size 864x648 with 3 Axes>"
      ]
     },
     "metadata": {},
     "output_type": "display_data"
    }
   ],
   "source": [
    "from matplotlib import cm\n",
    "from matplotlib.dates import YearLocator, MonthLocator\n",
    "fig, axs = plt.subplots(model.n_components, sharex=True, sharey=True, figsize=(12,9))\n",
    "colors = cm.rainbow(np.linspace(0, 1, model.n_components))\n",
    "\n",
    "for i, (ax, color) in enumerate(zip(axs, colors)):\n",
    "    # Use fancy indexing to plot data in each state.\n",
    "    mask = hidden_states == i\n",
    "    ax.plot_date(select.index.values[mask],\n",
    "                 select[col].values[mask],\n",
    "                 \".-\", c=color)\n",
    "    ax.set_title(\"{0}th hidden state\".format(i), fontsize=16, fontweight='demi')\n",
    "\n",
    "    # Format the ticks.\n",
    "    ax.xaxis.set_major_locator(YearLocator())\n",
    "    ax.xaxis.set_minor_locator(MonthLocator())\n",
    "    sns.despine(offset=10)\n",
    "\n",
    "plt.tight_layout()\n",
    "#fig.savefig('Hidden Markov (Mixture) Model_Regime Subplots.png')"
   ]
  },
  {
   "cell_type": "code",
   "execution_count": 216,
   "id": "f0bd543a",
   "metadata": {},
   "outputs": [
    {
     "name": "stdout",
     "output_type": "stream",
     "text": [
      "         Date  newStates  Real Earnings  Long Interest Rate\n",
      "0  1871-01-01          2           8.02                5.32\n",
      "1  1871-05-01          2           8.14                5.33\n",
      "2  1871-06-01          2           8.27                5.34\n",
      "3  1871-07-01          2           8.27                5.34\n",
      "4  1871-08-01          2           8.40                5.34\n"
     ]
    }
   ],
   "source": [
    "p=print\n",
    "sns.set(font_scale=1.5)\n",
    "states = (pd.DataFrame(hidden_states, columns=['newStates'], index=select.index)\n",
    "          .join(select, how='inner')\n",
    "          #.assign(mkt_cret=select.Cluster.cumsum())\n",
    "          .reset_index(drop=False)\n",
    "          .rename(columns={'index':'Date'}))\n",
    "p(states.head())\n"
   ]
  },
  {
   "cell_type": "code",
   "execution_count": 217,
   "id": "42ba0f53",
   "metadata": {},
   "outputs": [
    {
     "name": "stdout",
     "output_type": "stream",
     "text": [
      "         Date  newStates  Real Earnings  Long Interest Rate\n",
      "0  1871-01-01          2           8.02                5.32\n",
      "1  1871-05-01          2           8.14                5.33\n",
      "2  1871-06-01          2           8.27                5.34\n",
      "3  1871-07-01          2           8.27                5.34\n",
      "4  1871-08-01          2           8.40                5.34\n"
     ]
    }
   ],
   "source": [
    "\n",
    "p(states.head())\n",
    "newStatesDf = states\n",
    "\n",
    "newStatesDf.to_csv('df_svm_dataset1.csv')\n"
   ]
  },
  {
   "cell_type": "markdown",
   "id": "8aaaaee0",
   "metadata": {},
   "source": [
    "## Local Model 2- SVM"
   ]
  },
  {
   "cell_type": "code",
   "execution_count": 223,
   "id": "f6949189",
   "metadata": {},
   "outputs": [
    {
     "data": {
      "text/html": [
       "<div>\n",
       "<style scoped>\n",
       "    .dataframe tbody tr th:only-of-type {\n",
       "        vertical-align: middle;\n",
       "    }\n",
       "\n",
       "    .dataframe tbody tr th {\n",
       "        vertical-align: top;\n",
       "    }\n",
       "\n",
       "    .dataframe thead th {\n",
       "        text-align: right;\n",
       "    }\n",
       "</style>\n",
       "<table border=\"1\" class=\"dataframe\">\n",
       "  <thead>\n",
       "    <tr style=\"text-align: right;\">\n",
       "      <th></th>\n",
       "      <th>Real Earnings</th>\n",
       "      <th>Long Interest Rate</th>\n",
       "      <th>newStates</th>\n",
       "    </tr>\n",
       "  </thead>\n",
       "  <tbody>\n",
       "    <tr>\n",
       "      <th>0</th>\n",
       "      <td>8.02</td>\n",
       "      <td>5.32</td>\n",
       "      <td>2</td>\n",
       "    </tr>\n",
       "    <tr>\n",
       "      <th>1</th>\n",
       "      <td>8.14</td>\n",
       "      <td>5.33</td>\n",
       "      <td>2</td>\n",
       "    </tr>\n",
       "    <tr>\n",
       "      <th>2</th>\n",
       "      <td>8.27</td>\n",
       "      <td>5.34</td>\n",
       "      <td>2</td>\n",
       "    </tr>\n",
       "    <tr>\n",
       "      <th>3</th>\n",
       "      <td>8.27</td>\n",
       "      <td>5.34</td>\n",
       "      <td>2</td>\n",
       "    </tr>\n",
       "    <tr>\n",
       "      <th>4</th>\n",
       "      <td>8.40</td>\n",
       "      <td>5.34</td>\n",
       "      <td>2</td>\n",
       "    </tr>\n",
       "    <tr>\n",
       "      <th>...</th>\n",
       "      <td>...</td>\n",
       "      <td>...</td>\n",
       "      <td>...</td>\n",
       "    </tr>\n",
       "    <tr>\n",
       "      <th>1889</th>\n",
       "      <td>45.12</td>\n",
       "      <td>3.57</td>\n",
       "      <td>2</td>\n",
       "    </tr>\n",
       "    <tr>\n",
       "      <th>1890</th>\n",
       "      <td>46.99</td>\n",
       "      <td>3.33</td>\n",
       "      <td>2</td>\n",
       "    </tr>\n",
       "    <tr>\n",
       "      <th>1891</th>\n",
       "      <td>48.76</td>\n",
       "      <td>3.98</td>\n",
       "      <td>2</td>\n",
       "    </tr>\n",
       "    <tr>\n",
       "      <th>1892</th>\n",
       "      <td>41.06</td>\n",
       "      <td>3.81</td>\n",
       "      <td>1</td>\n",
       "    </tr>\n",
       "    <tr>\n",
       "      <th>1893</th>\n",
       "      <td>44.07</td>\n",
       "      <td>3.40</td>\n",
       "      <td>1</td>\n",
       "    </tr>\n",
       "  </tbody>\n",
       "</table>\n",
       "<p>1894 rows × 3 columns</p>\n",
       "</div>"
      ],
      "text/plain": [
       "      Real Earnings  Long Interest Rate  newStates\n",
       "0              8.02                5.32          2\n",
       "1              8.14                5.33          2\n",
       "2              8.27                5.34          2\n",
       "3              8.27                5.34          2\n",
       "4              8.40                5.34          2\n",
       "...             ...                 ...        ...\n",
       "1889          45.12                3.57          2\n",
       "1890          46.99                3.33          2\n",
       "1891          48.76                3.98          2\n",
       "1892          41.06                3.81          1\n",
       "1893          44.07                3.40          1\n",
       "\n",
       "[1894 rows x 3 columns]"
      ]
     },
     "execution_count": 223,
     "metadata": {},
     "output_type": "execute_result"
    }
   ],
   "source": [
    "states2 = pd.read_csv('df_svm_dataset1_oldandnew.csv', header=0)\n",
    "#states = states.set_index('Date')\n",
    "states2 = states2[['Real Earnings', 'Long Interest Rate', 'newStates']]\n",
    "states2"
   ]
  },
  {
   "cell_type": "code",
   "execution_count": 225,
   "id": "fa654ce8",
   "metadata": {},
   "outputs": [],
   "source": [
    "from sklearn.model_selection import train_test_split\n",
    "y = states2['newStates']\n",
    "X = states2.drop(['newStates'], axis = 1)\n",
    "\n",
    "training, testing, training_labels, testing_labels = train_test_split(X, y, test_size = .25, random_state = 42)"
   ]
  },
  {
   "cell_type": "code",
   "execution_count": null,
   "id": "4a63826c",
   "metadata": {},
   "outputs": [],
   "source": [
    "# X = states2.drop(['states'], axis = 1)\n",
    "# # Normalize the data\n",
    "# from sklearn.preprocessing import StandardScaler\n",
    "# sc = StandardScaler()\n",
    "# normed_train_data = pd.DataFrame(sc.fit_transform(training), columns = X.columns)\n",
    "# normed_test_data = pd.DataFrame(sc.fit_transform(testing), columns = X.columns)"
   ]
  },
  {
   "cell_type": "code",
   "execution_count": 226,
   "id": "95a57e72",
   "metadata": {},
   "outputs": [],
   "source": [
    "from sklearn import svm\n",
    "\n",
    "#Create a svm Classifier\n",
    "clf = svm.SVC(kernel='linear') # Linear Kernel\n",
    "\n",
    "#Train the model using the training sets\n",
    "clf.fit(training, training_labels)\n",
    "\n",
    "#Predict the response for test dataset\n",
    "y_pred = clf.predict(testing)\n",
    "\n"
   ]
  },
  {
   "cell_type": "code",
   "execution_count": 227,
   "id": "db2afd96",
   "metadata": {},
   "outputs": [
    {
     "name": "stdout",
     "output_type": "stream",
     "text": [
      "Accuracy: 0.8945147679324894\n"
     ]
    }
   ],
   "source": [
    "#Import scikit-learn metrics module for accuracy calculation\n",
    "from sklearn import metrics\n",
    "\n",
    "# Model Accuracy: how often is the classifier correct?\n",
    "print(\"Accuracy:\",metrics.accuracy_score(testing_labels, y_pred))"
   ]
  },
  {
   "cell_type": "code",
   "execution_count": 228,
   "id": "8340b554",
   "metadata": {},
   "outputs": [
    {
     "name": "stdout",
     "output_type": "stream",
     "text": [
      "f-score testing macro:  0.8724434555899435\n"
     ]
    }
   ],
   "source": [
    "from sklearn.metrics import f1_score\n",
    "print(\"f-score testing macro: \" , f1_score(testing_labels, y_pred, average='macro') )"
   ]
  },
  {
   "cell_type": "markdown",
   "id": "ce96b0ad",
   "metadata": {},
   "source": [
    "## Local model 3: SVM - Current Scenario: New accuracy < Old accuracy\n",
    "As the new accuracy is less than old accuracy we now only train the new dataset."
   ]
  },
  {
   "cell_type": "code",
   "execution_count": 287,
   "id": "f89fa560",
   "metadata": {},
   "outputs": [
    {
     "data": {
      "text/html": [
       "<div>\n",
       "<style scoped>\n",
       "    .dataframe tbody tr th:only-of-type {\n",
       "        vertical-align: middle;\n",
       "    }\n",
       "\n",
       "    .dataframe tbody tr th {\n",
       "        vertical-align: top;\n",
       "    }\n",
       "\n",
       "    .dataframe thead th {\n",
       "        text-align: right;\n",
       "    }\n",
       "</style>\n",
       "<table border=\"1\" class=\"dataframe\">\n",
       "  <thead>\n",
       "    <tr style=\"text-align: right;\">\n",
       "      <th></th>\n",
       "      <th>newStates</th>\n",
       "      <th>Real Earnings</th>\n",
       "      <th>Long Interest Rate</th>\n",
       "    </tr>\n",
       "  </thead>\n",
       "  <tbody>\n",
       "    <tr>\n",
       "      <th>0</th>\n",
       "      <td>2</td>\n",
       "      <td>8.02</td>\n",
       "      <td>5.32</td>\n",
       "    </tr>\n",
       "    <tr>\n",
       "      <th>1</th>\n",
       "      <td>2</td>\n",
       "      <td>8.14</td>\n",
       "      <td>5.33</td>\n",
       "    </tr>\n",
       "    <tr>\n",
       "      <th>2</th>\n",
       "      <td>2</td>\n",
       "      <td>8.27</td>\n",
       "      <td>5.34</td>\n",
       "    </tr>\n",
       "    <tr>\n",
       "      <th>3</th>\n",
       "      <td>2</td>\n",
       "      <td>8.27</td>\n",
       "      <td>5.34</td>\n",
       "    </tr>\n",
       "    <tr>\n",
       "      <th>4</th>\n",
       "      <td>2</td>\n",
       "      <td>8.40</td>\n",
       "      <td>5.34</td>\n",
       "    </tr>\n",
       "    <tr>\n",
       "      <th>...</th>\n",
       "      <td>...</td>\n",
       "      <td>...</td>\n",
       "      <td>...</td>\n",
       "    </tr>\n",
       "    <tr>\n",
       "      <th>1452</th>\n",
       "      <td>2</td>\n",
       "      <td>10.66</td>\n",
       "      <td>3.56</td>\n",
       "    </tr>\n",
       "    <tr>\n",
       "      <th>1453</th>\n",
       "      <td>2</td>\n",
       "      <td>12.57</td>\n",
       "      <td>3.59</td>\n",
       "    </tr>\n",
       "    <tr>\n",
       "      <th>1454</th>\n",
       "      <td>2</td>\n",
       "      <td>14.51</td>\n",
       "      <td>3.40</td>\n",
       "    </tr>\n",
       "    <tr>\n",
       "      <th>1455</th>\n",
       "      <td>0</td>\n",
       "      <td>29.30</td>\n",
       "      <td>3.39</td>\n",
       "    </tr>\n",
       "    <tr>\n",
       "      <th>1456</th>\n",
       "      <td>1</td>\n",
       "      <td>44.07</td>\n",
       "      <td>3.40</td>\n",
       "    </tr>\n",
       "  </tbody>\n",
       "</table>\n",
       "<p>1457 rows × 3 columns</p>\n",
       "</div>"
      ],
      "text/plain": [
       "      newStates  Real Earnings  Long Interest Rate\n",
       "0             2           8.02                5.32\n",
       "1             2           8.14                5.33\n",
       "2             2           8.27                5.34\n",
       "3             2           8.27                5.34\n",
       "4             2           8.40                5.34\n",
       "...         ...            ...                 ...\n",
       "1452          2          10.66                3.56\n",
       "1453          2          12.57                3.59\n",
       "1454          2          14.51                3.40\n",
       "1455          0          29.30                3.39\n",
       "1456          1          44.07                3.40\n",
       "\n",
       "[1457 rows x 3 columns]"
      ]
     },
     "execution_count": 287,
     "metadata": {},
     "output_type": "execute_result"
    }
   ],
   "source": [
    "states3 = pd.read_csv('df_states_newDatapoints.csv', header=0)\n",
    "#states = states.set_index('Date')\n",
    "states3 = states3[['newStates','Real Earnings', 'Long Interest Rate']]\n",
    "states3"
   ]
  },
  {
   "cell_type": "code",
   "execution_count": 288,
   "id": "1d51248a",
   "metadata": {},
   "outputs": [],
   "source": [
    "from sklearn.model_selection import train_test_split\n",
    "y = states3['newStates']\n",
    "X = states3.drop(['newStates'], axis = 1)\n",
    "\n",
    "training, testing, training_labels, testing_labels = train_test_split(X, y, test_size = .30, random_state = 42)"
   ]
  },
  {
   "cell_type": "code",
   "execution_count": 289,
   "id": "b88f142f",
   "metadata": {},
   "outputs": [],
   "source": [
    "from sklearn import svm\n",
    "\n",
    "#Create a svm Classifier\n",
    "clf = svm.SVC(kernel='linear') # Linear Kernel\n",
    "\n",
    "#Train the model using the training sets\n",
    "clf.fit(training, training_labels)\n",
    "\n",
    "#Predict the response for test dataset\n",
    "y_pred = clf.predict(testing)\n",
    "\n"
   ]
  },
  {
   "cell_type": "code",
   "execution_count": 290,
   "id": "5f18e3ea",
   "metadata": {},
   "outputs": [
    {
     "name": "stdout",
     "output_type": "stream",
     "text": [
      "Accuracy: 0.9954337899543378\n"
     ]
    }
   ],
   "source": [
    "#Import scikit-learn metrics module for accuracy calculation\n",
    "from sklearn import metrics\n",
    "\n",
    "# Model Accuracy: how often is the classifier correct?\n",
    "print(\"Accuracy:\",metrics.accuracy_score(testing_labels, y_pred))"
   ]
  },
  {
   "cell_type": "code",
   "execution_count": 291,
   "id": "97a7267e",
   "metadata": {},
   "outputs": [
    {
     "name": "stdout",
     "output_type": "stream",
     "text": [
      "f-score testing macro:  0.9950934649393742\n"
     ]
    }
   ],
   "source": [
    "from sklearn.metrics import f1_score\n",
    "print(\"f-score testing macro: \" , f1_score(testing_labels, y_pred, average='macro') )"
   ]
  },
  {
   "cell_type": "code",
   "execution_count": null,
   "id": "5b5b4241",
   "metadata": {},
   "outputs": [],
   "source": []
  }
 ],
 "metadata": {
  "kernelspec": {
   "display_name": "Python 3 (ipykernel)",
   "language": "python",
   "name": "python3"
  },
  "language_info": {
   "codemirror_mode": {
    "name": "ipython",
    "version": 3
   },
   "file_extension": ".py",
   "mimetype": "text/x-python",
   "name": "python",
   "nbconvert_exporter": "python",
   "pygments_lexer": "ipython3",
   "version": "3.8.12"
  }
 },
 "nbformat": 4,
 "nbformat_minor": 5
}
